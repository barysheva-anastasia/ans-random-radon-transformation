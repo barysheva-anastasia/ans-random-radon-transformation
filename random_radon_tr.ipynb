{
 "cells": [
  {
   "cell_type": "code",
   "execution_count": 1,
   "id": "22c8b451-6b75-464f-a77f-38e68435b2f7",
   "metadata": {},
   "outputs": [],
   "source": [
    "from scipy import misc\n",
    "import numpy as np\n",
    "import matplotlib.pyplot as plt\n",
    "import scipy\n",
    "import math\n",
    "from random import randint\n",
    "import scipy.cluster.hierarchy as hcluster"
   ]
  },
  {
   "cell_type": "code",
   "execution_count": 2,
   "id": "9d7afd2e-dbf3-4b3b-8085-5aa64fbb5f33",
   "metadata": {},
   "outputs": [],
   "source": [
    "def get_nonzero(image):\n",
    "    nonzero_x = np.nonzero(255 - image)[0]\n",
    "    nonzero_y = np.nonzero(255 - image)[1]\n",
    "    pairs = np.vstack((nonzero_x, nonzero_y)).T\n",
    "    return pairs"
   ]
  },
  {
   "cell_type": "code",
   "execution_count": 3,
   "id": "eced1b40-8eee-46e2-8525-cc00bc9e3679",
   "metadata": {},
   "outputs": [],
   "source": [
    "def choice(pixels):\n",
    "    n = len(pixels)\n",
    "    idx1 = randint(0, n - 1)\n",
    "    pixel1 = pixels[idx1]\n",
    "    idx2 = randint(0, n - 1)\n",
    "    if (idx2 == idx2):\n",
    "        idx2 = (idx2 + 1) % n\n",
    "    pixel2 = pixels[idx2]\n",
    "    return (pixel1, pixel2)"
   ]
  },
  {
   "cell_type": "code",
   "execution_count": 4,
   "id": "3c8b5753-8681-4660-8a30-b394a7ea83ea",
   "metadata": {},
   "outputs": [],
   "source": [
    "def random_radon_transformation(image, rho_steps = 220, theta_steps = 440, n_iter = int(1e5)):\n",
    "\n",
    "    nonzero_pixels = get_nonzero(image)\n",
    "\n",
    "    a = image.shape[1]\n",
    "    b = image.shape[0]\n",
    "\n",
    "    n_rhos = 2 * rho_steps\n",
    "    n_thetas = theta_steps\n",
    "\n",
    "    rho_max = np.sqrt(a ** 2 + b ** 2)\n",
    "    rho_step = rho_max / rho_steps\n",
    "    theta_step = np.pi / n_thetas\n",
    "    \n",
    "    R = np.zeros((n_rhos, n_thetas), dtype='float64')\n",
    "    for i in range(n_iter):\n",
    "        pixel1, pixel2 = choice(nonzero_pixels)\n",
    "\n",
    "        x_1 = pixel1[0]\n",
    "        y_1 = pixel1[1]\n",
    "        x_2 = pixel2[0]\n",
    "        y_2 = pixel2[1]\n",
    "\n",
    "        theta = np.pi / 2\n",
    "        if (y_1 != y_2):\n",
    "            theta = np.arctan((x_2 - x_1) / (y_1 - y_2))\n",
    "        if (theta < 0):\n",
    "            theta = np.pi + theta\n",
    "        rho = x_1 * np.cos(theta) + y_1 * np.sin(theta)\n",
    "\n",
    "        rho += rho_max \n",
    "\n",
    "        theta_int = int(theta / theta_step)\n",
    "        rho_int = int(rho / rho_step)\n",
    "        R[rho_int][theta_int] += 1\n",
    "\n",
    "    m = np.max(np.unique(R))\n",
    "    R *= (255/m)\n",
    "    return R"
   ]
  },
  {
   "cell_type": "code",
   "execution_count": 5,
   "id": "2c1b35d2-32f0-47ad-9e37-9bdc475bb1a4",
   "metadata": {},
   "outputs": [],
   "source": [
    "def generate_line_points(im_len, k, b, thickness=1):\n",
    "\n",
    "    x = np.array([], 'int64')\n",
    "    y = np.array([], 'int64')\n",
    "    \n",
    "    for i in range(0, thickness):\n",
    "        \n",
    "        x_i = np.arange(0, im_len, 1)\n",
    "        y_i = k * x_i + b + i\n",
    "        points = [(x_i[j], y_i[j]) for j in range(im_len)]\n",
    "        filtered_points = np.array(list(filter(lambda x: (x[1] >= 0) * (x[1] < im_len), points)))\n",
    "        if (filtered_points.shape[0] != 0):\n",
    "            x_i = filtered_points[:, 0]\n",
    "            y_i = filtered_points[:, 1]\n",
    "            x = np.hstack([x, x_i])\n",
    "            y = np.hstack([y, y_i])\n",
    "    return x, y"
   ]
  },
  {
   "cell_type": "code",
   "execution_count": 6,
   "id": "e1ac754e-f169-4ba6-9d2d-b0f7f025658e",
   "metadata": {},
   "outputs": [],
   "source": [
    "def generate_line_points_angle(im_len, r, theta, thickness=1):\n",
    "    x = np.array([], 'int64')\n",
    "    y = np.array([], 'int64')\n",
    "    x0 = y0 = im_len//2\n",
    "    \n",
    "    for i in range(0, thickness):\n",
    "        x_i = np.array([])\n",
    "        y_i = np.array([])\n",
    "        if (abs(theta - np.pi / 2) < 1e-4):\n",
    "            x_i = np.array([x0 + i] * im_len)\n",
    "            y_i = np.arange(0, im_len, 1)\n",
    "            x = np.hstack([x, x_i])\n",
    "            y = np.hstack([y, y_i])\n",
    "        else:\n",
    "            x_i = np.arange(0, im_len, 1)\n",
    "            y_i = np.array(y0 + r/(math.cos(theta)) + (x_i-x0)*math.tan(theta)).astype('int')+i\n",
    "            points = [(x_i[j], y_i[j]) for j in range(im_len)]\n",
    "            filtered_points = np.array(list(filter(lambda pixel: (pixel[1]>=0)*(pixel[1]<im_len), points)))\n",
    "            if (filtered_points.shape[0] != 0):\n",
    "                x_i = filtered_points[:, 0]\n",
    "                y_i = filtered_points[:, 1]\n",
    "                x = np.hstack([x, x_i])\n",
    "                y = np.hstack([y, y_i])\n",
    "    return x, y"
   ]
  },
  {
   "cell_type": "code",
   "execution_count": 9,
   "id": "a7baa863-c135-483f-98f4-14dc77e77283",
   "metadata": {},
   "outputs": [
    {
     "data": {
      "image/png": "[encoded data removed]",
      "text/plain": [
       "<Figure size 640x480 with 2 Axes>"
      ]
     },
     "metadata": {},
     "output_type": "display_data"
    }
   ],
   "source": [
    "im_len = 244\n",
    "x_points, y_points = generate_line_points(im_len, k = 2, b = 40, thickness=15)\n",
    "\n",
    "x_points_2, y_points_2 = generate_line_points(im_len, k =-2, b =200, thickness=5)\n",
    "img = np.zeros((im_len, im_len), dtype=np.uint8)\n",
    "img[x_points, y_points] = 255\n",
    "img[x_points_2, y_points_2] = 255\n",
    "img = 255 - img\n",
    "\n",
    "steps = 80\n",
    "radon = random_radon_transformation(img, rho_steps=steps, theta_steps=steps * 2, n_iter=int(1e4))\n",
    "\n",
    "plt.subplot(1, 2, 1), plt.imshow(img, cmap='gray')\n",
    "plt.xticks([]), plt.yticks([])\n",
    "plt.subplot(1, 2, 2), plt.imshow(radon, cmap='gray')\n",
    "plt.xticks([]), plt.yticks([])\n",
    "plt.show()"
   ]
  },
  {
   "cell_type": "code",
   "execution_count": 48,
   "id": "5f3f1d7f-21e7-4193-9e76-81d51e269b80",
   "metadata": {},
   "outputs": [],
   "source": [
    "def reversed_random_radon_transformation(R, n_iter=int(1e4)):\n",
    "    im_len = R.shape[0]\n",
    "    RR = np.zeros((im_len, im_len))\n",
    "    # x = np.array([], 'int64')\n",
    "    # y = np.array([], 'int64')\n",
    "    # reR = np.apply_over_axes(lambda pixel: generate_line_points(im_len, pixel[0], y, thickness=pixel[1])*radon[R[x], R[y]], R, axes = [0,1])\n",
    "    for i in range(n_iter):\n",
    "        nonzero_pixels = get_nonzero(R)\n",
    "        pixel= choice(nonzero_pixels)\n",
    "        \n",
    "        k = pixel[0]\n",
    "        b = pixel[1]\n",
    "\n",
    "        x_points, y_points = generate_line_points(im_len, k, b)\n",
    "        filtered_points = np.array(list(filter(lambda pixel: (pixel[1]>=0)*(pixel[1]<im_len), points)))\n",
    "        \n",
    "        for i in len(filtered_points[0]):\n",
    "            RR[x_points[i]][y_points[i]] = max(RR[x_points[i]][y_points[i]], R[k][b])\n",
    "        \n",
    "        return RR"
   ]
  },
  {
   "cell_type": "code",
   "execution_count": 49,
   "id": "995771a9-77b5-4447-9c4c-7ac023dacbc6",
   "metadata": {},
   "outputs": [
    {
     "ename": "ValueError",
     "evalue": "operands could not be broadcast together with shapes (2,) (160,) ",
     "output_type": "error",
     "traceback": [
      "\u001b[0;31m---------------------------------------------------------------------------\u001b[0m",
      "\u001b[0;31mValueError\u001b[0m                                Traceback (most recent call last)",
      "Cell \u001b[0;32mIn[49], line 12\u001b[0m\n\u001b[1;32m      8\u001b[0m img \u001b[38;5;241m=\u001b[39m \u001b[38;5;241m255\u001b[39m \u001b[38;5;241m-\u001b[39m img\n\u001b[1;32m     10\u001b[0m steps \u001b[38;5;241m=\u001b[39m \u001b[38;5;241m80\u001b[39m\n\u001b[0;32m---> 12\u001b[0m reradon \u001b[38;5;241m=\u001b[39m reversed_random_radon_transformation(radon)\n\u001b[1;32m     14\u001b[0m plt\u001b[38;5;241m.\u001b[39msubplot(\u001b[38;5;241m1\u001b[39m, \u001b[38;5;241m2\u001b[39m, \u001b[38;5;241m2\u001b[39m), plt\u001b[38;5;241m.\u001b[39mimshow(reradon, cmap\u001b[38;5;241m=\u001b[39m\u001b[38;5;124m'\u001b[39m\u001b[38;5;124mgray\u001b[39m\u001b[38;5;124m'\u001b[39m)\n\u001b[1;32m     15\u001b[0m plt\u001b[38;5;241m.\u001b[39mxticks([]), plt\u001b[38;5;241m.\u001b[39myticks([])\n",
      "Cell \u001b[0;32mIn[48], line 14\u001b[0m, in \u001b[0;36mreversed_random_radon_transformation\u001b[0;34m(R, n_iter)\u001b[0m\n\u001b[1;32m     11\u001b[0m k \u001b[38;5;241m=\u001b[39m pixel[\u001b[38;5;241m0\u001b[39m]\n\u001b[1;32m     12\u001b[0m b \u001b[38;5;241m=\u001b[39m pixel[\u001b[38;5;241m1\u001b[39m]\n\u001b[0;32m---> 14\u001b[0m x_points, y_points \u001b[38;5;241m=\u001b[39m generate_line_points(im_len, k, b)\n\u001b[1;32m     15\u001b[0m filtered_points \u001b[38;5;241m=\u001b[39m np\u001b[38;5;241m.\u001b[39marray(\u001b[38;5;28mlist\u001b[39m(\u001b[38;5;28mfilter\u001b[39m(\u001b[38;5;28;01mlambda\u001b[39;00m pixel: (pixel[\u001b[38;5;241m1\u001b[39m]\u001b[38;5;241m>\u001b[39m\u001b[38;5;241m=\u001b[39m\u001b[38;5;241m0\u001b[39m)\u001b[38;5;241m*\u001b[39m(pixel[\u001b[38;5;241m1\u001b[39m]\u001b[38;5;241m<\u001b[39mim_len), points)))\n\u001b[1;32m     17\u001b[0m \u001b[38;5;28;01mfor\u001b[39;00m i \u001b[38;5;129;01min\u001b[39;00m \u001b[38;5;28mlen\u001b[39m(filtered_points[\u001b[38;5;241m0\u001b[39m]):\n",
      "Cell \u001b[0;32mIn[5], line 9\u001b[0m, in \u001b[0;36mgenerate_line_points\u001b[0;34m(im_len, k, b, thickness)\u001b[0m\n\u001b[1;32m      6\u001b[0m \u001b[38;5;28;01mfor\u001b[39;00m i \u001b[38;5;129;01min\u001b[39;00m \u001b[38;5;28mrange\u001b[39m(\u001b[38;5;241m0\u001b[39m, thickness):\n\u001b[1;32m      8\u001b[0m     x_i \u001b[38;5;241m=\u001b[39m np\u001b[38;5;241m.\u001b[39marange(\u001b[38;5;241m0\u001b[39m, im_len, \u001b[38;5;241m1\u001b[39m)\n\u001b[0;32m----> 9\u001b[0m     y_i \u001b[38;5;241m=\u001b[39m k \u001b[38;5;241m*\u001b[39m x_i \u001b[38;5;241m+\u001b[39m b \u001b[38;5;241m+\u001b[39m i\n\u001b[1;32m     10\u001b[0m     points \u001b[38;5;241m=\u001b[39m [(x_i[j], y_i[j]) \u001b[38;5;28;01mfor\u001b[39;00m j \u001b[38;5;129;01min\u001b[39;00m \u001b[38;5;28mrange\u001b[39m(im_len)]\n\u001b[1;32m     11\u001b[0m     filtered_points \u001b[38;5;241m=\u001b[39m np\u001b[38;5;241m.\u001b[39marray(\u001b[38;5;28mlist\u001b[39m(\u001b[38;5;28mfilter\u001b[39m(\u001b[38;5;28;01mlambda\u001b[39;00m x: (x[\u001b[38;5;241m1\u001b[39m] \u001b[38;5;241m>\u001b[39m\u001b[38;5;241m=\u001b[39m \u001b[38;5;241m0\u001b[39m) \u001b[38;5;241m*\u001b[39m (x[\u001b[38;5;241m1\u001b[39m] \u001b[38;5;241m<\u001b[39m im_len), points)))\n",
      "\u001b[0;31mValueError\u001b[0m: operands could not be broadcast together with shapes (2,) (160,) "
     ]
    }
   ],
   "source": [
    "im_len = 244\n",
    "x_points, y_points = generate_line_points(im_len, k = 2, b = 40, thickness=15)\n",
    "\n",
    "x_points_2, y_points_2 = generate_line_points(im_len, k =-2, b =200, thickness=5)\n",
    "img = np.zeros((im_len, im_len), dtype=np.uint8)\n",
    "img[x_points, y_points] = 255\n",
    "img[x_points_2, y_points_2] = 255\n",
    "img = 255 - img\n",
    "\n",
    "steps = 80\n",
    "\n",
    "reradon = reversed_random_radon_transformation(radon)\n",
    "\n",
    "plt.subplot(1, 2, 2), plt.imshow(reradon, cmap='gray')\n",
    "plt.xticks([]), plt.yticks([])\n",
    "plt.show()"
   ]
  },
  {
   "cell_type": "code",
   "execution_count": null,
   "id": "e9b0102e-4cc7-4ecf-b3d5-7cead15a0936",
   "metadata": {},
   "outputs": [],
   "source": []
  },
  {
   "cell_type": "code",
   "execution_count": null,
   "id": "f5afc08e-1c81-4c49-9c18-bb6e5c12014b",
   "metadata": {},
   "outputs": [],
   "source": []
  },
  {
   "cell_type": "code",
   "execution_count": null,
   "id": "0c120ece-3394-4bfb-a80b-5d7376d268b1",
   "metadata": {},
   "outputs": [],
   "source": []
  },
  {
   "cell_type": "code",
   "execution_count": null,
   "id": "174d4482-08b5-4e03-a4fc-727e8458fe7f",
   "metadata": {},
   "outputs": [],
   "source": []
  }
 ],
 "metadata": {
  "kernelspec": {
   "display_name": "Python 3 (ipykernel)",
   "language": "python",
   "name": "python3"
  },
  "language_info": {
   "codemirror_mode": {
    "name": "ipython",
    "version": 3
   },
   "file_extension": ".py",
   "mimetype": "text/x-python",
   "name": "python",
   "nbconvert_exporter": "python",
   "pygments_lexer": "ipython3",
   "version": "3.11.7"
  }
 },
 "nbformat": 4,
 "nbformat_minor": 5
}
